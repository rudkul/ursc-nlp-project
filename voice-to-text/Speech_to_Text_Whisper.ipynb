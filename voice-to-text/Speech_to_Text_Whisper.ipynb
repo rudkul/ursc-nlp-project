{
  "nbformat": 4,
  "nbformat_minor": 0,
  "metadata": {
    "colab": {
      "provenance": [],
      "gpuType": "T4"
    },
    "kernelspec": {
      "name": "python3",
      "display_name": "Python 3"
    },
    "language_info": {
      "name": "python"
    },
    "accelerator": "GPU"
  },
  "cells": [
    {
      "cell_type": "code",
      "execution_count": 2,
      "metadata": {
        "colab": {
          "base_uri": "https://localhost:8080/"
        },
        "id": "ciA-VrG7I3zA",
        "outputId": "df01bd5e-7161-4a38-8063-d834f1d74d5a"
      },
      "outputs": [
        {
          "output_type": "stream",
          "name": "stdout",
          "text": [
            "Collecting openai-whisper\n",
            "  Downloading openai-whisper-20230314.tar.gz (792 kB)\n",
            "\u001b[?25l     \u001b[90m━━━━━━━━━━━━━━━━━━━━━━━━━━━━━━━━━━━━━━━━\u001b[0m \u001b[32m0.0/792.9 kB\u001b[0m \u001b[31m?\u001b[0m eta \u001b[36m-:--:--\u001b[0m\r\u001b[2K     \u001b[91m━━━━━━━━━━━\u001b[0m\u001b[90m╺\u001b[0m\u001b[90m━━━━━━━━━━━━━━━━━━━━━━━━━━━\u001b[0m \u001b[32m225.3/792.9 kB\u001b[0m \u001b[31m6.9 MB/s\u001b[0m eta \u001b[36m0:00:01\u001b[0m\r\u001b[2K     \u001b[90m━━━━━━━━━━━━━━━━━━━━━━━━━━━━━━━━━━━━━━\u001b[0m \u001b[32m792.9/792.9 kB\u001b[0m \u001b[31m16.5 MB/s\u001b[0m eta \u001b[36m0:00:00\u001b[0m\n",
            "\u001b[?25h  Installing build dependencies ... \u001b[?25l\u001b[?25hdone\n",
            "  Getting requirements to build wheel ... \u001b[?25l\u001b[?25hdone\n",
            "  Preparing metadata (pyproject.toml) ... \u001b[?25l\u001b[?25hdone\n",
            "Requirement already satisfied: triton==2.0.0 in /usr/local/lib/python3.10/dist-packages (from openai-whisper) (2.0.0)\n",
            "Requirement already satisfied: numba in /usr/local/lib/python3.10/dist-packages (from openai-whisper) (0.56.4)\n",
            "Requirement already satisfied: numpy in /usr/local/lib/python3.10/dist-packages (from openai-whisper) (1.22.4)\n",
            "Requirement already satisfied: torch in /usr/local/lib/python3.10/dist-packages (from openai-whisper) (2.0.1+cu118)\n",
            "Requirement already satisfied: tqdm in /usr/local/lib/python3.10/dist-packages (from openai-whisper) (4.65.0)\n",
            "Requirement already satisfied: more-itertools in /usr/local/lib/python3.10/dist-packages (from openai-whisper) (9.1.0)\n",
            "Collecting tiktoken==0.3.1 (from openai-whisper)\n",
            "  Downloading tiktoken-0.3.1-cp310-cp310-manylinux_2_17_x86_64.manylinux2014_x86_64.whl (1.7 MB)\n",
            "\u001b[2K     \u001b[90m━━━━━━━━━━━━━━━━━━━━━━━━━━━━━━━━━━━━━━━━\u001b[0m \u001b[32m1.7/1.7 MB\u001b[0m \u001b[31m63.0 MB/s\u001b[0m eta \u001b[36m0:00:00\u001b[0m\n",
            "\u001b[?25hCollecting ffmpeg-python==0.2.0 (from openai-whisper)\n",
            "  Downloading ffmpeg_python-0.2.0-py3-none-any.whl (25 kB)\n",
            "Requirement already satisfied: future in /usr/local/lib/python3.10/dist-packages (from ffmpeg-python==0.2.0->openai-whisper) (0.18.3)\n",
            "Requirement already satisfied: regex>=2022.1.18 in /usr/local/lib/python3.10/dist-packages (from tiktoken==0.3.1->openai-whisper) (2022.10.31)\n",
            "Requirement already satisfied: requests>=2.26.0 in /usr/local/lib/python3.10/dist-packages (from tiktoken==0.3.1->openai-whisper) (2.27.1)\n",
            "Requirement already satisfied: cmake in /usr/local/lib/python3.10/dist-packages (from triton==2.0.0->openai-whisper) (3.25.2)\n",
            "Requirement already satisfied: filelock in /usr/local/lib/python3.10/dist-packages (from triton==2.0.0->openai-whisper) (3.12.2)\n",
            "Requirement already satisfied: lit in /usr/local/lib/python3.10/dist-packages (from triton==2.0.0->openai-whisper) (16.0.6)\n",
            "Requirement already satisfied: llvmlite<0.40,>=0.39.0dev0 in /usr/local/lib/python3.10/dist-packages (from numba->openai-whisper) (0.39.1)\n",
            "Requirement already satisfied: setuptools in /usr/local/lib/python3.10/dist-packages (from numba->openai-whisper) (67.7.2)\n",
            "Requirement already satisfied: typing-extensions in /usr/local/lib/python3.10/dist-packages (from torch->openai-whisper) (4.7.1)\n",
            "Requirement already satisfied: sympy in /usr/local/lib/python3.10/dist-packages (from torch->openai-whisper) (1.11.1)\n",
            "Requirement already satisfied: networkx in /usr/local/lib/python3.10/dist-packages (from torch->openai-whisper) (3.1)\n",
            "Requirement already satisfied: jinja2 in /usr/local/lib/python3.10/dist-packages (from torch->openai-whisper) (3.1.2)\n",
            "Requirement already satisfied: urllib3<1.27,>=1.21.1 in /usr/local/lib/python3.10/dist-packages (from requests>=2.26.0->tiktoken==0.3.1->openai-whisper) (1.26.16)\n",
            "Requirement already satisfied: certifi>=2017.4.17 in /usr/local/lib/python3.10/dist-packages (from requests>=2.26.0->tiktoken==0.3.1->openai-whisper) (2023.5.7)\n",
            "Requirement already satisfied: charset-normalizer~=2.0.0 in /usr/local/lib/python3.10/dist-packages (from requests>=2.26.0->tiktoken==0.3.1->openai-whisper) (2.0.12)\n",
            "Requirement already satisfied: idna<4,>=2.5 in /usr/local/lib/python3.10/dist-packages (from requests>=2.26.0->tiktoken==0.3.1->openai-whisper) (3.4)\n",
            "Requirement already satisfied: MarkupSafe>=2.0 in /usr/local/lib/python3.10/dist-packages (from jinja2->torch->openai-whisper) (2.1.3)\n",
            "Requirement already satisfied: mpmath>=0.19 in /usr/local/lib/python3.10/dist-packages (from sympy->torch->openai-whisper) (1.3.0)\n",
            "Building wheels for collected packages: openai-whisper\n",
            "  Building wheel for openai-whisper (pyproject.toml) ... \u001b[?25l\u001b[?25hdone\n",
            "  Created wheel for openai-whisper: filename=openai_whisper-20230314-py3-none-any.whl size=796908 sha256=9fd71f90ecaa9af640d3e52a6395f0e80a3b5ae11470f491144a7a2ba7cd3b24\n",
            "  Stored in directory: /root/.cache/pip/wheels/b2/13/5f/fe8245f6dc59df505879da4b2129932e342f02a80e6b87f27d\n",
            "Successfully built openai-whisper\n",
            "Installing collected packages: ffmpeg-python, tiktoken, openai-whisper\n",
            "Successfully installed ffmpeg-python-0.2.0 openai-whisper-20230314 tiktoken-0.3.1\n"
          ]
        }
      ],
      "source": [
        "!pip install -U openai-whisper"
      ]
    },
    {
      "cell_type": "markdown",
      "source": [
        "**There are 5 model sizes, offering speed and accuracy tradeoffs.**\n",
        "1. **Tiny** - 39M parameters, 1GB VRAM Required, 32x Speed\n",
        "2. **Base** - 74M parameters, 1GB VRAM Required, 16x Speed\n",
        "3. **Small** - 244M parameters, 2GB VRAM Required, 6x Speed\n",
        "4. **Medium** - 769M parameters, 5GB VRAM Required, 2x Speed\n",
        "5. **Large** - 1550M parameters, 10GB VRAM Required, 1x Speed"
      ],
      "metadata": {
        "id": "3W35gCh6JL2S"
      }
    },
    {
      "cell_type": "code",
      "source": [
        "import whisper\n",
        "model = whisper.load_model(\"base\")"
      ],
      "metadata": {
        "colab": {
          "base_uri": "https://localhost:8080/"
        },
        "id": "PFQOwLoeJ8to",
        "outputId": "41d74fed-521a-4edf-fb1c-2b33221c73f4"
      },
      "execution_count": 3,
      "outputs": [
        {
          "output_type": "stream",
          "name": "stderr",
          "text": [
            "100%|███████████████████████████████████████| 139M/139M [00:02<00:00, 59.3MiB/s]\n"
          ]
        }
      ]
    },
    {
      "cell_type": "code",
      "source": [
        "result = model.transcribe(\"harvard.wav\", verbose=True)\n",
        "result['text']"
      ],
      "metadata": {
        "colab": {
          "base_uri": "https://localhost:8080/",
          "height": 226
        },
        "id": "cDOi3VfoKQVE",
        "outputId": "24a3d2b6-1e8a-43b9-b47e-080b60a13f6e"
      },
      "execution_count": 4,
      "outputs": [
        {
          "output_type": "stream",
          "name": "stderr",
          "text": [
            "/usr/local/lib/python3.10/dist-packages/whisper/transcribe.py:114: UserWarning: FP16 is not supported on CPU; using FP32 instead\n",
            "  warnings.warn(\"FP16 is not supported on CPU; using FP32 instead\")\n"
          ]
        },
        {
          "output_type": "stream",
          "name": "stdout",
          "text": [
            "Detecting language using up to the first 30 seconds. Use `--language` to specify the language\n",
            "Detected language: English\n",
            "[00:00.000 --> 00:04.480]  The stale smell of old beer lingers.\n",
            "[00:04.480 --> 00:07.020]  It takes heat to bring out the odor.\n",
            "[00:07.020 --> 00:09.940]  A cold dip restores health and zest.\n",
            "[00:09.940 --> 00:12.620]  A salt pickle tastes fine with ham.\n",
            "[00:12.620 --> 00:15.080]  Tacos al pastor are my favorite.\n",
            "[00:15.080 --> 00:17.600]  A zestful food is the hot cross bun.\n"
          ]
        },
        {
          "output_type": "execute_result",
          "data": {
            "text/plain": [
              "' The stale smell of old beer lingers. It takes heat to bring out the odor. A cold dip restores health and zest. A salt pickle tastes fine with ham. Tacos al pastor are my favorite. A zestful food is the hot cross bun.'"
            ],
            "application/vnd.google.colaboratory.intrinsic+json": {
              "type": "string"
            }
          },
          "metadata": {},
          "execution_count": 4
        }
      ]
    },
    {
      "cell_type": "code",
      "source": [
        "result['segments']"
      ],
      "metadata": {
        "colab": {
          "base_uri": "https://localhost:8080/"
        },
        "id": "2hFcQS7KLr6b",
        "outputId": "7bbb7965-7a8e-4747-a06d-095a55dc73ba"
      },
      "execution_count": 5,
      "outputs": [
        {
          "output_type": "execute_result",
          "data": {
            "text/plain": [
              "[{'id': 0,\n",
              "  'seek': 0,\n",
              "  'start': 0.0,\n",
              "  'end': 4.48,\n",
              "  'text': ' The stale smell of old beer lingers.',\n",
              "  'tokens': [50364,\n",
              "   440,\n",
              "   342,\n",
              "   1220,\n",
              "   4316,\n",
              "   295,\n",
              "   1331,\n",
              "   8795,\n",
              "   22949,\n",
              "   433,\n",
              "   13,\n",
              "   50588],\n",
              "  'temperature': 0.0,\n",
              "  'avg_logprob': -0.25378372420125933,\n",
              "  'compression_ratio': 1.4210526315789473,\n",
              "  'no_speech_prob': 0.022392641752958298},\n",
              " {'id': 1,\n",
              "  'seek': 0,\n",
              "  'start': 4.48,\n",
              "  'end': 7.0200000000000005,\n",
              "  'text': ' It takes heat to bring out the odor.',\n",
              "  'tokens': [50588, 467, 2516, 3738, 281, 1565, 484, 264, 41176, 13, 50715],\n",
              "  'temperature': 0.0,\n",
              "  'avg_logprob': -0.25378372420125933,\n",
              "  'compression_ratio': 1.4210526315789473,\n",
              "  'no_speech_prob': 0.022392641752958298},\n",
              " {'id': 2,\n",
              "  'seek': 0,\n",
              "  'start': 7.0200000000000005,\n",
              "  'end': 9.94,\n",
              "  'text': ' A cold dip restores health and zest.',\n",
              "  'tokens': [50715, 316, 3554, 10460, 1472, 2706, 1585, 293, 37889, 13, 50861],\n",
              "  'temperature': 0.0,\n",
              "  'avg_logprob': -0.25378372420125933,\n",
              "  'compression_ratio': 1.4210526315789473,\n",
              "  'no_speech_prob': 0.022392641752958298},\n",
              " {'id': 3,\n",
              "  'seek': 0,\n",
              "  'start': 9.94,\n",
              "  'end': 12.620000000000001,\n",
              "  'text': ' A salt pickle tastes fine with ham.',\n",
              "  'tokens': [50861, 316, 5139, 31433, 8666, 2489, 365, 7852, 13, 50995],\n",
              "  'temperature': 0.0,\n",
              "  'avg_logprob': -0.25378372420125933,\n",
              "  'compression_ratio': 1.4210526315789473,\n",
              "  'no_speech_prob': 0.022392641752958298},\n",
              " {'id': 4,\n",
              "  'seek': 0,\n",
              "  'start': 12.620000000000001,\n",
              "  'end': 15.08,\n",
              "  'text': ' Tacos al pastor are my favorite.',\n",
              "  'tokens': [50995, 38848, 329, 419, 21193, 366, 452, 2954, 13, 51118],\n",
              "  'temperature': 0.0,\n",
              "  'avg_logprob': -0.25378372420125933,\n",
              "  'compression_ratio': 1.4210526315789473,\n",
              "  'no_speech_prob': 0.022392641752958298},\n",
              " {'id': 5,\n",
              "  'seek': 0,\n",
              "  'start': 15.08,\n",
              "  'end': 17.6,\n",
              "  'text': ' A zestful food is the hot cross bun.',\n",
              "  'tokens': [51118,\n",
              "   316,\n",
              "   37889,\n",
              "   906,\n",
              "   1755,\n",
              "   307,\n",
              "   264,\n",
              "   2368,\n",
              "   3278,\n",
              "   6702,\n",
              "   13,\n",
              "   51244],\n",
              "  'temperature': 0.0,\n",
              "  'avg_logprob': -0.25378372420125933,\n",
              "  'compression_ratio': 1.4210526315789473,\n",
              "  'no_speech_prob': 0.022392641752958298}]"
            ]
          },
          "metadata": {},
          "execution_count": 5
        }
      ]
    },
    {
      "cell_type": "code",
      "source": [
        "for i, seg in enumerate(result['segments']):\n",
        "  print(i+1, \" -\", seg['text'])"
      ],
      "metadata": {
        "colab": {
          "base_uri": "https://localhost:8080/"
        },
        "id": "WCZdZtNPLzRm",
        "outputId": "3ea823cd-29d4-42ff-ccab-8cdfc2671f91"
      },
      "execution_count": 7,
      "outputs": [
        {
          "output_type": "stream",
          "name": "stdout",
          "text": [
            "1  -  The stale smell of old beer lingers.\n",
            "2  -  It takes heat to bring out the odor.\n",
            "3  -  A cold dip restores health and zest.\n",
            "4  -  A salt pickle tastes fine with ham.\n",
            "5  -  Tacos al pastor are my favorite.\n",
            "6  -  A zestful food is the hot cross bun.\n"
          ]
        }
      ]
    },
    {
      "cell_type": "code",
      "source": [
        "import pandas as pd\n",
        "speech = pd.DataFrame.from_dict(result['segments'])\n",
        "speech.head()"
      ],
      "metadata": {
        "colab": {
          "base_uri": "https://localhost:8080/",
          "height": 337
        },
        "id": "8iBZxsikMKBW",
        "outputId": "7da1dd92-7c21-421d-f698-f544d7ed8cd4"
      },
      "execution_count": 8,
      "outputs": [
        {
          "output_type": "execute_result",
          "data": {
            "text/plain": [
              "   id  seek  start    end                                   text  \\\n",
              "0   0     0   0.00   4.48   The stale smell of old beer lingers.   \n",
              "1   1     0   4.48   7.02   It takes heat to bring out the odor.   \n",
              "2   2     0   7.02   9.94   A cold dip restores health and zest.   \n",
              "3   3     0   9.94  12.62    A salt pickle tastes fine with ham.   \n",
              "4   4     0  12.62  15.08       Tacos al pastor are my favorite.   \n",
              "\n",
              "                                              tokens  temperature  \\\n",
              "0  [50364, 440, 342, 1220, 4316, 295, 1331, 8795,...          0.0   \n",
              "1  [50588, 467, 2516, 3738, 281, 1565, 484, 264, ...          0.0   \n",
              "2  [50715, 316, 3554, 10460, 1472, 2706, 1585, 29...          0.0   \n",
              "3  [50861, 316, 5139, 31433, 8666, 2489, 365, 785...          0.0   \n",
              "4  [50995, 38848, 329, 419, 21193, 366, 452, 2954...          0.0   \n",
              "\n",
              "   avg_logprob  compression_ratio  no_speech_prob  \n",
              "0    -0.253784           1.421053        0.022393  \n",
              "1    -0.253784           1.421053        0.022393  \n",
              "2    -0.253784           1.421053        0.022393  \n",
              "3    -0.253784           1.421053        0.022393  \n",
              "4    -0.253784           1.421053        0.022393  "
            ],
            "text/html": [
              "\n",
              "\n",
              "  <div id=\"df-f8adeb09-9fc7-435f-acd4-7da30c4dbe19\">\n",
              "    <div class=\"colab-df-container\">\n",
              "      <div>\n",
              "<style scoped>\n",
              "    .dataframe tbody tr th:only-of-type {\n",
              "        vertical-align: middle;\n",
              "    }\n",
              "\n",
              "    .dataframe tbody tr th {\n",
              "        vertical-align: top;\n",
              "    }\n",
              "\n",
              "    .dataframe thead th {\n",
              "        text-align: right;\n",
              "    }\n",
              "</style>\n",
              "<table border=\"1\" class=\"dataframe\">\n",
              "  <thead>\n",
              "    <tr style=\"text-align: right;\">\n",
              "      <th></th>\n",
              "      <th>id</th>\n",
              "      <th>seek</th>\n",
              "      <th>start</th>\n",
              "      <th>end</th>\n",
              "      <th>text</th>\n",
              "      <th>tokens</th>\n",
              "      <th>temperature</th>\n",
              "      <th>avg_logprob</th>\n",
              "      <th>compression_ratio</th>\n",
              "      <th>no_speech_prob</th>\n",
              "    </tr>\n",
              "  </thead>\n",
              "  <tbody>\n",
              "    <tr>\n",
              "      <th>0</th>\n",
              "      <td>0</td>\n",
              "      <td>0</td>\n",
              "      <td>0.00</td>\n",
              "      <td>4.48</td>\n",
              "      <td>The stale smell of old beer lingers.</td>\n",
              "      <td>[50364, 440, 342, 1220, 4316, 295, 1331, 8795,...</td>\n",
              "      <td>0.0</td>\n",
              "      <td>-0.253784</td>\n",
              "      <td>1.421053</td>\n",
              "      <td>0.022393</td>\n",
              "    </tr>\n",
              "    <tr>\n",
              "      <th>1</th>\n",
              "      <td>1</td>\n",
              "      <td>0</td>\n",
              "      <td>4.48</td>\n",
              "      <td>7.02</td>\n",
              "      <td>It takes heat to bring out the odor.</td>\n",
              "      <td>[50588, 467, 2516, 3738, 281, 1565, 484, 264, ...</td>\n",
              "      <td>0.0</td>\n",
              "      <td>-0.253784</td>\n",
              "      <td>1.421053</td>\n",
              "      <td>0.022393</td>\n",
              "    </tr>\n",
              "    <tr>\n",
              "      <th>2</th>\n",
              "      <td>2</td>\n",
              "      <td>0</td>\n",
              "      <td>7.02</td>\n",
              "      <td>9.94</td>\n",
              "      <td>A cold dip restores health and zest.</td>\n",
              "      <td>[50715, 316, 3554, 10460, 1472, 2706, 1585, 29...</td>\n",
              "      <td>0.0</td>\n",
              "      <td>-0.253784</td>\n",
              "      <td>1.421053</td>\n",
              "      <td>0.022393</td>\n",
              "    </tr>\n",
              "    <tr>\n",
              "      <th>3</th>\n",
              "      <td>3</td>\n",
              "      <td>0</td>\n",
              "      <td>9.94</td>\n",
              "      <td>12.62</td>\n",
              "      <td>A salt pickle tastes fine with ham.</td>\n",
              "      <td>[50861, 316, 5139, 31433, 8666, 2489, 365, 785...</td>\n",
              "      <td>0.0</td>\n",
              "      <td>-0.253784</td>\n",
              "      <td>1.421053</td>\n",
              "      <td>0.022393</td>\n",
              "    </tr>\n",
              "    <tr>\n",
              "      <th>4</th>\n",
              "      <td>4</td>\n",
              "      <td>0</td>\n",
              "      <td>12.62</td>\n",
              "      <td>15.08</td>\n",
              "      <td>Tacos al pastor are my favorite.</td>\n",
              "      <td>[50995, 38848, 329, 419, 21193, 366, 452, 2954...</td>\n",
              "      <td>0.0</td>\n",
              "      <td>-0.253784</td>\n",
              "      <td>1.421053</td>\n",
              "      <td>0.022393</td>\n",
              "    </tr>\n",
              "  </tbody>\n",
              "</table>\n",
              "</div>\n",
              "      <button class=\"colab-df-convert\" onclick=\"convertToInteractive('df-f8adeb09-9fc7-435f-acd4-7da30c4dbe19')\"\n",
              "              title=\"Convert this dataframe to an interactive table.\"\n",
              "              style=\"display:none;\">\n",
              "\n",
              "  <svg xmlns=\"http://www.w3.org/2000/svg\" height=\"24px\"viewBox=\"0 0 24 24\"\n",
              "       width=\"24px\">\n",
              "    <path d=\"M0 0h24v24H0V0z\" fill=\"none\"/>\n",
              "    <path d=\"M18.56 5.44l.94 2.06.94-2.06 2.06-.94-2.06-.94-.94-2.06-.94 2.06-2.06.94zm-11 1L8.5 8.5l.94-2.06 2.06-.94-2.06-.94L8.5 2.5l-.94 2.06-2.06.94zm10 10l.94 2.06.94-2.06 2.06-.94-2.06-.94-.94-2.06-.94 2.06-2.06.94z\"/><path d=\"M17.41 7.96l-1.37-1.37c-.4-.4-.92-.59-1.43-.59-.52 0-1.04.2-1.43.59L10.3 9.45l-7.72 7.72c-.78.78-.78 2.05 0 2.83L4 21.41c.39.39.9.59 1.41.59.51 0 1.02-.2 1.41-.59l7.78-7.78 2.81-2.81c.8-.78.8-2.07 0-2.86zM5.41 20L4 18.59l7.72-7.72 1.47 1.35L5.41 20z\"/>\n",
              "  </svg>\n",
              "      </button>\n",
              "\n",
              "\n",
              "\n",
              "    <div id=\"df-37499b83-b117-4591-8083-dbdfa6a5c346\">\n",
              "      <button class=\"colab-df-quickchart\" onclick=\"quickchart('df-37499b83-b117-4591-8083-dbdfa6a5c346')\"\n",
              "              title=\"Suggest charts.\"\n",
              "              style=\"display:none;\">\n",
              "\n",
              "<svg xmlns=\"http://www.w3.org/2000/svg\" height=\"24px\"viewBox=\"0 0 24 24\"\n",
              "     width=\"24px\">\n",
              "    <g>\n",
              "        <path d=\"M19 3H5c-1.1 0-2 .9-2 2v14c0 1.1.9 2 2 2h14c1.1 0 2-.9 2-2V5c0-1.1-.9-2-2-2zM9 17H7v-7h2v7zm4 0h-2V7h2v10zm4 0h-2v-4h2v4z\"/>\n",
              "    </g>\n",
              "</svg>\n",
              "      </button>\n",
              "    </div>\n",
              "\n",
              "<style>\n",
              "  .colab-df-quickchart {\n",
              "    background-color: #E8F0FE;\n",
              "    border: none;\n",
              "    border-radius: 50%;\n",
              "    cursor: pointer;\n",
              "    display: none;\n",
              "    fill: #1967D2;\n",
              "    height: 32px;\n",
              "    padding: 0 0 0 0;\n",
              "    width: 32px;\n",
              "  }\n",
              "\n",
              "  .colab-df-quickchart:hover {\n",
              "    background-color: #E2EBFA;\n",
              "    box-shadow: 0px 1px 2px rgba(60, 64, 67, 0.3), 0px 1px 3px 1px rgba(60, 64, 67, 0.15);\n",
              "    fill: #174EA6;\n",
              "  }\n",
              "\n",
              "  [theme=dark] .colab-df-quickchart {\n",
              "    background-color: #3B4455;\n",
              "    fill: #D2E3FC;\n",
              "  }\n",
              "\n",
              "  [theme=dark] .colab-df-quickchart:hover {\n",
              "    background-color: #434B5C;\n",
              "    box-shadow: 0px 1px 3px 1px rgba(0, 0, 0, 0.15);\n",
              "    filter: drop-shadow(0px 1px 2px rgba(0, 0, 0, 0.3));\n",
              "    fill: #FFFFFF;\n",
              "  }\n",
              "</style>\n",
              "\n",
              "    <script>\n",
              "      async function quickchart(key) {\n",
              "        const containerElement = document.querySelector('#' + key);\n",
              "        const charts = await google.colab.kernel.invokeFunction(\n",
              "            'suggestCharts', [key], {});\n",
              "      }\n",
              "    </script>\n",
              "\n",
              "      <script>\n",
              "\n",
              "function displayQuickchartButton(domScope) {\n",
              "  let quickchartButtonEl =\n",
              "    domScope.querySelector('#df-37499b83-b117-4591-8083-dbdfa6a5c346 button.colab-df-quickchart');\n",
              "  quickchartButtonEl.style.display =\n",
              "    google.colab.kernel.accessAllowed ? 'block' : 'none';\n",
              "}\n",
              "\n",
              "        displayQuickchartButton(document);\n",
              "      </script>\n",
              "      <style>\n",
              "    .colab-df-container {\n",
              "      display:flex;\n",
              "      flex-wrap:wrap;\n",
              "      gap: 12px;\n",
              "    }\n",
              "\n",
              "    .colab-df-convert {\n",
              "      background-color: #E8F0FE;\n",
              "      border: none;\n",
              "      border-radius: 50%;\n",
              "      cursor: pointer;\n",
              "      display: none;\n",
              "      fill: #1967D2;\n",
              "      height: 32px;\n",
              "      padding: 0 0 0 0;\n",
              "      width: 32px;\n",
              "    }\n",
              "\n",
              "    .colab-df-convert:hover {\n",
              "      background-color: #E2EBFA;\n",
              "      box-shadow: 0px 1px 2px rgba(60, 64, 67, 0.3), 0px 1px 3px 1px rgba(60, 64, 67, 0.15);\n",
              "      fill: #174EA6;\n",
              "    }\n",
              "\n",
              "    [theme=dark] .colab-df-convert {\n",
              "      background-color: #3B4455;\n",
              "      fill: #D2E3FC;\n",
              "    }\n",
              "\n",
              "    [theme=dark] .colab-df-convert:hover {\n",
              "      background-color: #434B5C;\n",
              "      box-shadow: 0px 1px 3px 1px rgba(0, 0, 0, 0.15);\n",
              "      filter: drop-shadow(0px 1px 2px rgba(0, 0, 0, 0.3));\n",
              "      fill: #FFFFFF;\n",
              "    }\n",
              "  </style>\n",
              "\n",
              "      <script>\n",
              "        const buttonEl =\n",
              "          document.querySelector('#df-f8adeb09-9fc7-435f-acd4-7da30c4dbe19 button.colab-df-convert');\n",
              "        buttonEl.style.display =\n",
              "          google.colab.kernel.accessAllowed ? 'block' : 'none';\n",
              "\n",
              "        async function convertToInteractive(key) {\n",
              "          const element = document.querySelector('#df-f8adeb09-9fc7-435f-acd4-7da30c4dbe19');\n",
              "          const dataTable =\n",
              "            await google.colab.kernel.invokeFunction('convertToInteractive',\n",
              "                                                     [key], {});\n",
              "          if (!dataTable) return;\n",
              "\n",
              "          const docLinkHtml = 'Like what you see? Visit the ' +\n",
              "            '<a target=\"_blank\" href=https://colab.research.google.com/notebooks/data_table.ipynb>data table notebook</a>'\n",
              "            + ' to learn more about interactive tables.';\n",
              "          element.innerHTML = '';\n",
              "          dataTable['output_type'] = 'display_data';\n",
              "          await google.colab.output.renderOutput(dataTable, element);\n",
              "          const docLink = document.createElement('div');\n",
              "          docLink.innerHTML = docLinkHtml;\n",
              "          element.appendChild(docLink);\n",
              "        }\n",
              "      </script>\n",
              "    </div>\n",
              "  </div>\n"
            ]
          },
          "metadata": {},
          "execution_count": 8
        }
      ]
    },
    {
      "cell_type": "code",
      "source": [
        "audio = whisper.load_audio('harvard.wav')\n",
        "audio = whisper.pad_or_trim(audio)\n",
        "mel = whisper.log_mel_spectrogram(audio).to(model.device)\n",
        "_, probs = model.detect_language(mel)"
      ],
      "metadata": {
        "id": "xKspXQMIMcoj"
      },
      "execution_count": 9,
      "outputs": []
    },
    {
      "cell_type": "code",
      "source": [
        "sorted(probs.items(), key=lambda x:x[1], reverse=True)[:10]"
      ],
      "metadata": {
        "colab": {
          "base_uri": "https://localhost:8080/"
        },
        "id": "TA2LX4TnNE_d",
        "outputId": "bf13e39e-f31e-4fbc-a0ab-4bb55ac0fc8e"
      },
      "execution_count": 10,
      "outputs": [
        {
          "output_type": "execute_result",
          "data": {
            "text/plain": [
              "[('en', 0.9977268576622009),\n",
              " ('ja', 0.0006539112655445933),\n",
              " ('nn', 0.0003194053133483976),\n",
              " ('ko', 0.00021457891853060573),\n",
              " ('pt', 0.0001776807475835085),\n",
              " ('es', 0.00011555601668078452),\n",
              " ('la', 0.00010099864448420703),\n",
              " ('fr', 8.328038529725745e-05),\n",
              " ('haw', 7.064113742671907e-05),\n",
              " ('de', 6.923016917426139e-05)]"
            ]
          },
          "metadata": {},
          "execution_count": 10
        }
      ]
    },
    {
      "cell_type": "markdown",
      "source": [
        "**Working on an Earnings Call Data File for Transcription**"
      ],
      "metadata": {
        "id": "ipW0sjnyNZkV"
      }
    },
    {
      "cell_type": "code",
      "source": [
        "!pip install pytube"
      ],
      "metadata": {
        "colab": {
          "base_uri": "https://localhost:8080/"
        },
        "id": "zgp_u7zYNmLU",
        "outputId": "95e5bd5e-8ed0-45f1-a5cc-c14c03a00aab"
      },
      "execution_count": 1,
      "outputs": [
        {
          "output_type": "stream",
          "name": "stdout",
          "text": [
            "Collecting pytube\n",
            "  Downloading pytube-15.0.0-py3-none-any.whl (57 kB)\n",
            "\u001b[?25l     \u001b[90m━━━━━━━━━━━━━━━━━━━━━━━━━━━━━━━━━━━━━━━━\u001b[0m \u001b[32m0.0/57.6 kB\u001b[0m \u001b[31m?\u001b[0m eta \u001b[36m-:--:--\u001b[0m\r\u001b[2K     \u001b[91m━━━━━━━━━━━━━━━━━━━━\u001b[0m\u001b[91m╸\u001b[0m\u001b[90m━━━━━━━━━━━━━━━━━━\u001b[0m \u001b[32m30.7/57.6 kB\u001b[0m \u001b[31m693.7 kB/s\u001b[0m eta \u001b[36m0:00:01\u001b[0m\r\u001b[2K     \u001b[90m━━━━━━━━━━━━━━━━━━━━━━━━━━━━━━━━━━━━━━━\u001b[0m \u001b[32m57.6/57.6 kB\u001b[0m \u001b[31m858.9 kB/s\u001b[0m eta \u001b[36m0:00:00\u001b[0m\n",
            "\u001b[?25hInstalling collected packages: pytube\n",
            "Successfully installed pytube-15.0.0\n"
          ]
        }
      ]
    },
    {
      "cell_type": "code",
      "source": [
        "from pytube import YouTube"
      ],
      "metadata": {
        "id": "4pO-VP0GNsg0"
      },
      "execution_count": 4,
      "outputs": []
    },
    {
      "cell_type": "code",
      "source": [
        "youtube_video_url = \"https://www.youtube.com/watch?v=3haowENzdLo\"\n",
        "youtube_video_content = YouTube(youtube_video_url)"
      ],
      "metadata": {
        "id": "z6H2zMfdOoFY"
      },
      "execution_count": 6,
      "outputs": []
    },
    {
      "cell_type": "code",
      "source": [
        "audio_streams = youtube_video_content.streams.filter(only_audio=True)\n",
        "for stream in audio_streams:\n",
        "  print(stream)"
      ],
      "metadata": {
        "colab": {
          "base_uri": "https://localhost:8080/"
        },
        "id": "vxFtONuoO8KB",
        "outputId": "5ab57f2b-14c1-4592-bb71-d656c3bc8d4b"
      },
      "execution_count": 7,
      "outputs": [
        {
          "output_type": "stream",
          "name": "stdout",
          "text": [
            "<Stream: itag=\"139\" mime_type=\"audio/mp4\" abr=\"48kbps\" acodec=\"mp4a.40.5\" progressive=\"False\" type=\"audio\">\n",
            "<Stream: itag=\"140\" mime_type=\"audio/mp4\" abr=\"128kbps\" acodec=\"mp4a.40.2\" progressive=\"False\" type=\"audio\">\n",
            "<Stream: itag=\"251\" mime_type=\"audio/webm\" abr=\"160kbps\" acodec=\"opus\" progressive=\"False\" type=\"audio\">\n"
          ]
        }
      ]
    },
    {
      "cell_type": "code",
      "source": [
        "audio_stream = audio_streams[1]\n",
        "print(audio_stream)"
      ],
      "metadata": {
        "colab": {
          "base_uri": "https://localhost:8080/"
        },
        "id": "ysz7bOJZPLvk",
        "outputId": "e333ef02-ae3a-40a4-b365-e350c91c4cd0"
      },
      "execution_count": 8,
      "outputs": [
        {
          "output_type": "stream",
          "name": "stdout",
          "text": [
            "<Stream: itag=\"140\" mime_type=\"audio/mp4\" abr=\"128kbps\" acodec=\"mp4a.40.2\" progressive=\"False\" type=\"audio\">\n"
          ]
        }
      ]
    },
    {
      "cell_type": "code",
      "source": [
        "!ffmpeg -version"
      ],
      "metadata": {
        "colab": {
          "base_uri": "https://localhost:8080/"
        },
        "id": "-6RVuIE7PZ9h",
        "outputId": "adc14fe8-ab00-47b9-fa31-97d936ce345a"
      },
      "execution_count": 9,
      "outputs": [
        {
          "output_type": "stream",
          "name": "stdout",
          "text": [
            "ffmpeg version 4.4.2-0ubuntu0.22.04.1 Copyright (c) 2000-2021 the FFmpeg developers\n",
            "built with gcc 11 (Ubuntu 11.2.0-19ubuntu1)\n",
            "configuration: --prefix=/usr --extra-version=0ubuntu0.22.04.1 --toolchain=hardened --libdir=/usr/lib/x86_64-linux-gnu --incdir=/usr/include/x86_64-linux-gnu --arch=amd64 --enable-gpl --disable-stripping --enable-gnutls --enable-ladspa --enable-libaom --enable-libass --enable-libbluray --enable-libbs2b --enable-libcaca --enable-libcdio --enable-libcodec2 --enable-libdav1d --enable-libflite --enable-libfontconfig --enable-libfreetype --enable-libfribidi --enable-libgme --enable-libgsm --enable-libjack --enable-libmp3lame --enable-libmysofa --enable-libopenjpeg --enable-libopenmpt --enable-libopus --enable-libpulse --enable-librabbitmq --enable-librubberband --enable-libshine --enable-libsnappy --enable-libsoxr --enable-libspeex --enable-libsrt --enable-libssh --enable-libtheora --enable-libtwolame --enable-libvidstab --enable-libvorbis --enable-libvpx --enable-libwebp --enable-libx265 --enable-libxml2 --enable-libxvid --enable-libzimg --enable-libzmq --enable-libzvbi --enable-lv2 --enable-omx --enable-openal --enable-opencl --enable-opengl --enable-sdl2 --enable-pocketsphinx --enable-librsvg --enable-libmfx --enable-libdc1394 --enable-libdrm --enable-libiec61883 --enable-chromaprint --enable-frei0r --enable-libx264 --enable-shared\n",
            "libavutil      56. 70.100 / 56. 70.100\n",
            "libavcodec     58.134.100 / 58.134.100\n",
            "libavformat    58. 76.100 / 58. 76.100\n",
            "libavdevice    58. 13.100 / 58. 13.100\n",
            "libavfilter     7.110.100 /  7.110.100\n",
            "libswscale      5.  9.100 /  5.  9.100\n",
            "libswresample   3.  9.100 /  3.  9.100\n",
            "libpostproc    55.  9.100 / 55.  9.100\n"
          ]
        }
      ]
    },
    {
      "cell_type": "code",
      "source": [
        "audio_stream.download(\"earnings_call_microsoft_q4_2022.mp4\")"
      ],
      "metadata": {
        "colab": {
          "base_uri": "https://localhost:8080/",
          "height": 36
        },
        "id": "IHKP-U2yQV4v",
        "outputId": "9483ae08-cbec-4039-f4f0-16b2105638f2"
      },
      "execution_count": 12,
      "outputs": [
        {
          "output_type": "execute_result",
          "data": {
            "text/plain": [
              "'/content/earnings_call_microsoft_q4_2022.mp4/Microsoft (MSFT) Q4 2022 Earnings Call.mp4'"
            ],
            "application/vnd.google.colaboratory.intrinsic+json": {
              "type": "string"
            }
          },
          "metadata": {},
          "execution_count": 12
        }
      ]
    },
    {
      "cell_type": "code",
      "source": [
        "!ffmpeg -ss 1924 -i \"/content/earnings_call_microsoft_q4_2022.mp4/Microsoft (MSFT) Q4 2022 Earnings Call.mp4\" -t 2515 \"earnings_call_microsoft_q4_2022_filtered.mp4\""
      ],
      "metadata": {
        "colab": {
          "base_uri": "https://localhost:8080/"
        },
        "id": "FcBJlx4NPqK1",
        "outputId": "143dcce7-c5e1-4d12-913b-d5ad219780f9"
      },
      "execution_count": 13,
      "outputs": [
        {
          "output_type": "stream",
          "name": "stdout",
          "text": [
            "ffmpeg version 4.4.2-0ubuntu0.22.04.1 Copyright (c) 2000-2021 the FFmpeg developers\n",
            "  built with gcc 11 (Ubuntu 11.2.0-19ubuntu1)\n",
            "  configuration: --prefix=/usr --extra-version=0ubuntu0.22.04.1 --toolchain=hardened --libdir=/usr/lib/x86_64-linux-gnu --incdir=/usr/include/x86_64-linux-gnu --arch=amd64 --enable-gpl --disable-stripping --enable-gnutls --enable-ladspa --enable-libaom --enable-libass --enable-libbluray --enable-libbs2b --enable-libcaca --enable-libcdio --enable-libcodec2 --enable-libdav1d --enable-libflite --enable-libfontconfig --enable-libfreetype --enable-libfribidi --enable-libgme --enable-libgsm --enable-libjack --enable-libmp3lame --enable-libmysofa --enable-libopenjpeg --enable-libopenmpt --enable-libopus --enable-libpulse --enable-librabbitmq --enable-librubberband --enable-libshine --enable-libsnappy --enable-libsoxr --enable-libspeex --enable-libsrt --enable-libssh --enable-libtheora --enable-libtwolame --enable-libvidstab --enable-libvorbis --enable-libvpx --enable-libwebp --enable-libx265 --enable-libxml2 --enable-libxvid --enable-libzimg --enable-libzmq --enable-libzvbi --enable-lv2 --enable-omx --enable-openal --enable-opencl --enable-opengl --enable-sdl2 --enable-pocketsphinx --enable-librsvg --enable-libmfx --enable-libdc1394 --enable-libdrm --enable-libiec61883 --enable-chromaprint --enable-frei0r --enable-libx264 --enable-shared\n",
            "  libavutil      56. 70.100 / 56. 70.100\n",
            "  libavcodec     58.134.100 / 58.134.100\n",
            "  libavformat    58. 76.100 / 58. 76.100\n",
            "  libavdevice    58. 13.100 / 58. 13.100\n",
            "  libavfilter     7.110.100 /  7.110.100\n",
            "  libswscale      5.  9.100 /  5.  9.100\n",
            "  libswresample   3.  9.100 /  3.  9.100\n",
            "  libpostproc    55.  9.100 / 55.  9.100\n",
            "Input #0, mov,mp4,m4a,3gp,3g2,mj2, from '/content/earnings_call_microsoft_q4_2022.mp4/Microsoft (MSFT) Q4 2022 Earnings Call.mp4':\n",
            "  Metadata:\n",
            "    major_brand     : dash\n",
            "    minor_version   : 0\n",
            "    compatible_brands: iso6mp41\n",
            "    creation_time   : 2023-01-24T04:10:50.000000Z\n",
            "  Duration: 01:35:02.77, start: 0.000000, bitrate: 129 kb/s\n",
            "  Stream #0:0(eng): Audio: aac (LC) (mp4a / 0x6134706D), 44100 Hz, stereo, fltp, 0 kb/s (default)\n",
            "    Metadata:\n",
            "      creation_time   : 2023-01-24T04:10:50.000000Z\n",
            "      handler_name    : ISO Media file produced by Google Inc.\n",
            "      vendor_id       : [0][0][0][0]\n",
            "Stream mapping:\n",
            "  Stream #0:0 -> #0:0 (aac (native) -> aac (native))\n",
            "Press [q] to stop, [?] for help\n",
            "Output #0, mp4, to 'earnings_call_microsoft_q4_2022_filtered.mp4':\n",
            "  Metadata:\n",
            "    major_brand     : dash\n",
            "    minor_version   : 0\n",
            "    compatible_brands: iso6mp41\n",
            "    encoder         : Lavf58.76.100\n",
            "  Stream #0:0(eng): Audio: aac (LC) (mp4a / 0x6134706D), 44100 Hz, stereo, fltp, 128 kb/s (default)\n",
            "    Metadata:\n",
            "      creation_time   : 2023-01-24T04:10:50.000000Z\n",
            "      handler_name    : ISO Media file produced by Google Inc.\n",
            "      vendor_id       : [0][0][0][0]\n",
            "      encoder         : Lavc58.134.100 aac\n",
            "size=   39955kB time=00:41:54.99 bitrate= 130.1kbits/s speed=51.8x    \n",
            "video:0kB audio:39531kB subtitle:0kB other streams:0kB global headers:0kB muxing overhead: 1.073892%\n",
            "\u001b[1;36m[aac @ 0x59110e354880] \u001b[0mQavg: 884.995\n"
          ]
        }
      ]
    },
    {
      "cell_type": "code",
      "source": [
        "import whisper\n",
        "\n",
        "model = whisper.load_model(\"base\")\n",
        "result = model.transcribe(\"/content/earnings_call_microsoft_q4_2022_filtered.mp4\")\n",
        "result[\"text\"]"
      ],
      "metadata": {
        "colab": {
          "base_uri": "https://localhost:8080/",
          "height": 1000
        },
        "id": "nM39I2GuPzGs",
        "outputId": "6f5df556-e055-4b45-a334-cb8ce7b616dc"
      },
      "execution_count": 14,
      "outputs": [
        {
          "output_type": "execute_result",
          "data": {
            "text/plain": [
              "\" Good afternoon and thank you for joining us today. On the call with me are Satin Adela, Chairman and Chief Executive Officer, Amy Hood, Chief Financial Officer, Alice Chala, Chief Accounting Officer, and Keith Tholiver, Deputy General Counsel. On the Microsoft Invest Relations website, you can find our earnings press release and financial summary slide deck, which is intended to supplement our prepared remarks during today's call, and provides the reconciliation of differences between gap and non-gap financial measures. Unless otherwise specified, we will refer to non-gap metrics on the call. The non-gap financial measures provided should not be considered as a sub-seat four, or superior to the measures of financial performance prepared in accordance with gap. They are included as additional clarifying items to aid investors and further understanding the company's fourth quarter performance in addition to the impact these items and events have on the financial results. All growth comparisons we make on the call today relate to the corresponding period of last year, unless otherwise noted. We will also provide growth rates and constant currency when available, as a framework for assessing how our underlying business is performed, excluding the effect of foreign currency rate fluctuations. Where growth rates are the same in constant currency, we will refer to the growth rate only. We will post our prepared remarks to our website immediately find the call until the complete transcript is available. Today's call is being broadcast live and recorded. If you ask a question, it will be included in our live transmission in the transcript and in any future use of the recording. You can replay the call and view the transcript on the Microsoft Invest Relations website. During this call, we will be making four looking statements, which are predictions, projections, or other statements about future events. These statements are based on current expectations and assumptions that are subject to risks and uncertainties. Actual results could maturely differ because of factors discussed in today's earnings press release in the comments made during this conference call, and in the risk factor section of our form 10K, forms 10Q, and other reports and filings with the Securities and Exchange Commission. We do not undertake any duty to update any forward-looking statement. And with that, I'll turn the call over to Satya. Thank you, Brett. Amid this macroeconomic environment, the Microsoft Cloud surpassed $25 billion in quarterly revenue for the first time up 28% and 33% in constant currency. When I talk with customers, it's clear there is a real opportunity to help organizations in every industry use digital technology to overcome today's challenges and emerge stronger. In this environment, we are focused on three things. First, no company is better positioned than Microsoft to help organizations deliver on their digital imperative so that they can do more with less. From infrastructure and data to business applications and hybrid work, we provide unique differentiated value to our customers. Second, we will invest to take share and build new businesses in categories where we have long-term structural advantage. Lastly, we will manage through this period with an intense focus on prioritization and execution excellence in our own operations to drive operational leverage. With that, let me highlight our progress starting with Azure. Organizations in every industry continue to choose our cloud to align their IT investments with demand. We are seeing larger and longer-term commitments and one a record number of $100 million plus and $1 billion plus deals this quarter. We have more data center regions than any other provider and we will launch 10 regions over the next year. Our new Microsoft Cloud for Sovereignty helps public sector customers meet urgent compliance, security and privacy requirements. With Azure Arc, we are meeting customers where they are enabling companies like GM, Gregs, UBS and Uniper to run applications across on-prem edge and multi-cloud environments. We are seeing more customers move their mission critical workloads to Azure. American Airlines, for example, chose our cloud to run its key operational workloads, including its data warehouse and Telstra will move its internal IT workloads to Azure. And we are the platform of choice for SAP apps on the cloud. Leaders in every industry, including craft hines, fidget, sue and uniliver, have migrated ERP workloads to Azure. Just last week, we announced a new service to accelerate adoption of Oracle workloads on Azure. We are the only public cloud with simplified direct access to Oracle databases running in the Oracle Cloud. Now, I want to data an AI. With our Microsoft Intelligent Data Platform, we provide a complete data fabric spanning operational databases, analytics and governance helping customers focus on creating value instead of integrating fragmented data state. More than 65% of the Fortune 1000 use three or more of our data solutions, and we are growing faster than the market. We are seeing leaders in every industry, from LaLiga and Lenovo to Swissry and Walgreens, unify their data using our tools. Cosmos DB is the go-to database powering the world's most demanding mission critical workloads at any scale. Transactions and data volume increased over 100% year over year for the fourth quarter in a row. When it comes to AI, we are seeing a paradigm shift as the world's large AI models become powerful platforms themselves. With our Azure Open AI service, a diverse set of customers from HSBC, PWC and RTL Group to Shell and Whipro are applying language models to advanced scenarios like content and code generation. Now on to developer tools. We have the most popular developer tools across any cloud and any platform. Leaders in every industry from A-Hole Del Hayes to KPMG, to Phillips are all choosing GitHub to build software. GitHub Co-Pilot is the first of its kind AI per programmer which helps developers write better code faster. More than 400,000 people have subscribed since we made it generally available a month ago. With our expanding portfolio of container services, organizations like H&M can build modern, more resilient cloud native applications. All up revenue from Azure container services increased by triple digits. Now on to power platform. With power platform, we are helping domain experts rapidly drive productivity gains at a time when it's never been more important. We now have nearly 25 million monthly active users and we are innovating to make it even easier for teams of pro and citizen developers to build end-to-end business solutions together. ABNBav, ARM, ECU, Toyota, Vodafone and Zyurik insurance have all built centers of excellence to train employees at scale on how to use power platform. PG&E for example expects to save at least 720,000 hours of by eliminating redundant and manual processes across employee workflows. Now on to Dynamics 365. We are helping organizations digitize their customer experience service, finance and supply chain functions as we continue to outgrow the market in every category. Our new Microsoft Digital Contact Center platform brings together Dynamics 365, Microsoft Teams as well as enterprise AI capabilities from nuance to help customers like HP deliver omnichannel customer engagement. And new integrations between Dynamics 365 and intelligent auto management and teams help people collaborate in the floor of work to overcome supply chain disruptions. We are winning customers as we help organizations address their most pressing challenges. Pete's coffee is modernizing its supply chain with our business applications. Karlsburg is standardizing its field service and customer service operations. And visa switched to Dynamics 365 for both its sales and call center organizations. When it comes to our industry and cross-industry clouds, we are seeing strong adoption as we take a platform-driven approach to help organizations deliver on their digital imperative. For example, Microsoft Cloud for Healthcare, inclusive of nuances, becoming the platform of choice for companies across the healthcare value chain looking to drive meaningful, clinical and financial outcomes, whether it's a provider modernizing care delivery or health plan transforming the member experience or a retailer expanding into health services, having a technology partner that is truly dedicated to empowering their success is a significant differentiator for us. Inter-mountain healthcare, for example, chose the Cloud for Healthcare as well as nuances, DAX, ambient intelligence solution as the pillar of its new digital strategy. Now on to Microsoft 365 and teams. In this economic environment, every organization is looking to support employee flexibility and improve productivity. Hybrid work is now just work and it's imperative that organizations reconnect and re-engage the workforce at home in the office and everywhere in between. To do this, companies need a digital fabric that connects employees, as well as customers and partners wherever and whenever they work while reducing cost and complexity. We are all in on teams. Over the past year, we've introduced more than 450 capabilities to empower frontline and knowledge workers to collaborate synchronously and asynchronously, as well as remote and in person. Teams is taking share across every category, from collaboration to chat, to meetings, to calling and seeing higher usage intensity as companies turn to the platform to accelerate their digital transformation and orchestrate all their business process in the flow of work. ISVs from Adobe to Workday have built deep integrations with teams and more than 100,000 companies including Johnson & Johnson, Lumen Technologies and Progressive Insurance have deployed custom line of business applications in teams. All up, the number of third party and lab apps with active usage increased by 40% year over year. Teams phone is the market leader in cloud calling across VoIP and PSDN. We now have over 12 million PSDN users nearly double the number a year ago. And teams rooms bridges the gap between people working remotely and those in the office with innovations like AI-powered cameras. More than 60% of the Fortune 500 have chosen teams rooms to connect employees across the hybrid workplace. We're also building a completely new suite with Microsoft Viva as we create a new employee experience category. This is both a priority for our customers and an expansive and high-grow tam for us. 25% of the Fortune 500 already used Viva as organizations increasingly recognize that employee experience in well-being are essential to their productivity. We have seen broad adoption across segments and industries from Commonwealth Bank, Fidelity Investments and MasterCount to AstraZeneca and Schlumberger. And this innovation is driving revenue growth across Microsoft 365. Asahi, Expedia Group and Quarkom all chose our premium offerings to transform how employees work. E5 seats increased more than 60% year over year. Now on to Windows. With Windows, we are putting people at the center to help them securely work, connect and play. Despite a changing market for PCs during the quarter, we continue to see more PC shipped than pre-pandemic and are taking share. And we are seeing higher monthly usage of Windows 11 applications with increased time spent across creative work, collaboration, gaming, media and writing code as people rely on the PC for its unique productivity capabilities, rich interactive experiences and to stay connected. We are transforming how Windows is experienced and managed with Azure Virtual Desktop and Windows 365. Azure Virtual Desktop monthly active usage increased nearly 60% year over year. One year in, we are seeing strong adoption of Windows 365 from organizations in every industry, from Hangberg, Commercial Bank and Kendral to LEGO Group and Shroters as they use Cloud PCs to rapidly onboard new and temporary employees and speed M&A integration while reducing IT costs. Now on to security. As the rate and pace of threats continue to accelerate, security is the top priority for every organization. We provide comprehensive solutions that integrate more than 50 categories informed by more than 43 trillion signals each day, reducing cost and complexity. We're taking share across all major categories we serve. All up our security revenue increased 40%. We are the only Cloud provider with protection for the top three Cloud platforms and we're seeing more and more customers turn to us to protect their multi-cloud multi-platform infrastructure. Pearson View and Vodafone both shows our security stack to protect their digital estate across clouds. And we're going further to help protect organizations. Our new ENTRA product family includes tools for permissions management, identity governance and identity verification. And we now offer managed threat detection and response with Microsoft security experts. The world's largest hedge fund, Bridgewater Associates, for example, will use the service to supplement its own security operations. Now on to LinkedIn. We once again saw record engagement among the more than 850 million members, a testament to how mission critical the platform is to connect job seekers with jobs, learners with skills and market tiers with buyers. We are seeing job candidates and employers alike prioritize skills to more efficiently find and source work. More than 40% of the companies on LinkedIn now rely on skills filters to identify candidates. LinkedIn Talent Solutions surpassed $6 billion in revenue over the past 12 months, up 39% year over year. And LinkedIn Marketing Solutions surpassed $5 billion in annual revenue for the first time. We are a leader in B2B digital advertising and we continue to see customers choose us for higher reach and ROI. More broadly, despite the current headwinds in the ad market, we are expanding our opportunity in advertising as we look towards the long term. We are creating a new monetization engine for the web, an alternative that offers market tiers and publishers, more long-term viable ad solutions and supports consumer privacy and strong data governance. It starts with our first-party internet experiences. We are focused on increasing our share and engagement across edge, Bing and our personalized content feed, Microsoft start. Daily content consumption across start and categories like news, weather, finance and sports increased 80% since we launched the service one year ago. An edge continues to gain share as consumers use it to save money with our built-in coupon and price comparison features. Our approach extends to our third-party ad network. We closed our acquisition of Zander last month and now power one of the world's largest marketplaces for premium advertising. With Microsoft advertising every media and consumer internet company now has a trusted platform for their own ad innovation and monetization. Just two weeks ago, Netflix chose us as its exclusive technology and sales partner for its first ad-supported subscription offering. A validation of the differentiated value we provide to any publisher looking for a flexible partner willing to build and innovate with them. And with Promot IQ, we are providing a platform for retailers like Home Depot, Coals and Kroger to build their own digital commerce and marketing channels. This quarter, Sephora chose our solution to help build a new advertising revenue stream while maintaining ownership of their own data and customer relationships. Now on to gaming. We offer the best value in the gaming industry. Our Xbox GamePass subscription service includes access to hundreds of games and Xbox Series S is the most affordable next-generation console. We sold more consoles life-to-date than any previous generation of Xbox and have been the market leader in North America for three quarters in a row amongst next-gen consoles. And with Xbox Cloud Gaming, we are bringing games to new endpoints. Players now can stream Xbox games on Samsung Smart TVs. And we partner with Epic Games to make Fortnite available for free via the browser. Over four million people have streamed the game to date, including over one million who were new to our ecosystem. In closing, we are investing and sharpening our focus to help our customers during this critical moment and to capture the massive technological shifts underway. Our portfolio of best of category products and best of sweet solutions along with our durable business models and intense focus on prioritization and execution excellence make me confident about our opportunity ahead in the coming year. With that, I will hand it over to Amy. Thank you, Sathya, and good afternoon, everyone. This quarter revenue was $51.9 billion up 12% and 16% in constant currency. Earnings per share was $2.23 and increased 3% in 8% in constant currency. I'd like to start by discussing the impact of the macroeconomic environment on our results this quarter. First, FX. The US dollars strengthened throughout the quarter, creating an additional headwind beyond what we shared bit quarter. As a result, for the full quarter, revenue and EPS were negatively impacted by $595 million and four cents per share beyond our expectations shared in April. Next, extended production shutdowns in China that continued through May and a deteriorating PC market in June contributed to a negative Windows OEM revenue impact of more than $300 million. And finally, reductions in advertising spent impacted LinkedIn marketing solutions and search and news advertising revenue by more than $100 million. In our consumer business, despite those macro challenges, we drove another quarter of sharegames for Windows in the PC market and for Edge in browsers. In our commercial business, Q4 was the largest quarter ever for long-term commitments to our platform. And as you heard from Sathya, we saw sharegames in areas such as data and AI, dynamics, teams and security. Against a strong prior year comparable, commercial bookings increased 25% and 35% in constant currency significantly ahead of expectations. Our record commitment quarter was driven by increases in the number of $100 million plus Azure and $10 million plus Microsoft 365 contracts, as well as consistent strong execution across our core and duty sales motions. Commercial remaining performance obligation increased 34% and 37% in constant currency to $189 billion. Roughly 45% will be recognized in revenue in the next 12 months, up 28% year over year. The remaining portion will should be recognized beyond the next 12 months, increased 39% year over year. In our annuity mix, increased 1. year over year to 96%. Microsoft Cloud revenue was $25 billion and grew 28% and 33% in constant currency. Microsoft Cloud gross margin percentage decreased slightly year over year to 69%. Excluding the impact from the change in accounting estimate for useful lives, Microsoft Cloud gross margin percentage increased roughly 1. Driven by improvement across our cloud services, partially offset by sales mix shift to Azure. Now back to total company level. As noted earlier, FX decreased total company revenue by four points, two points unfavorable to expectations. Additionally, FX decreased cogs and operating expense growth by two points, one point favorable to expectations. Gross margin dollars increased 10% and 15% constant currency and gross margin percentage decreased over year to 68%. Excluding the impact of the change in accounting estimate and FX, gross margin percentage increased slightly as the improvement in cloud services noted earlier was partially offset by sales mix shift to cloud. Operating expense increased 14% and 16% in constant currency, driven by increased investments in cloud engineering, linked in and nuance. FX growth included roughly two points from the decision to scale done operations in Russia, employee severance and the impact from the zander acquisition, which closed in June. At a total company level, headcount grew 22% year over year as we continued to invest in key areas such as cloud engineering, linked in, sales and customer deployment, and included roughly six points of growth from the nuance and zander acquisitions, operating income increased 8% and 14% in constant currency and operating margins decreased year over year to 40%. Excluding the impact of the change in accounting estimate and FX, operating margins were relatively unchanged as the improvement in cloud services noted earlier and sales mix shift to higher margin businesses were offset by the impact of the nuance acquisition. Now to our segment results. Revenue from productivity and business processes was $16.6 billion and grew 13% and 17% in constant currency. FX decreased segment revenue $159 million more than expected. When adjusting for the additional FX headwind, overall segment results were written line with expectations. All this commercial revenue grew 9% and 13% in constant currency. Office 365 commercial revenue increased 15% and 19% in constant currency. In line with expectations, driven by installed base expansion across all workloads and customer segments, as well as higher RPU from continued momentum in E5. Paid Office 365 commercial seats grew 14% year over year, driven by our small and medium business and frontline worker offerings, although growth was impacted by some moderation and new deal volume outside of E5, particularly in the small and medium business customer segment. Demand for security, compliance and voice value in Microsoft 365 drove strong E5 momentum again, this quarter. E5 now accounts for 12% of our Office 365 commercial installed base. Office commercial licensing was down 32% and 28% in constant currency, lower than expected, driven primarily by a lower mix of contracts with higher in period revenue recognition. Office consumer revenue grew 9% and 12% in constant currency in line with expectations, driven by continued momentum and Microsoft 365 subscriptions, which grew 15% to 59.7 million. Dynamics revenue grew 19% and 24% in constant currency, driven by Dynamics 365, which grew 31%, and 36% in constant currency. Slightly below expectations due to lower than expected growth in new business, even as our cloud growth continues to outpace the market. LinkedIn revenue increased 26% in 29% in constant currency, lower than expected, as marketing solutions was impacted by the slowdown advertising spend noted earlier, and talent solutions was impacted by weaker online job posts late in the quarter. Segment grows margin dollars increased 12% and 17% in constant currency, and grows margin percentage decreased slightly year over year. Excluding the impact of the change in accounting estimate, gross margin percentage increased roughly one point driven by improvement across all cloud services, operating expense increased 12% and 14% in constant currency, and operating income increased 12% and 19% in constant currency. Next, the intelligent cloud segment. Revenue was 20.9 million dollars, increasing 20% and 25% in constant currency, FX decreased segment revenue 309 million dollars more than expected. Excluding the additional FX headwind, segment results were in line with expectations. Overall, server products and cloud services revenue increased 22% and 26% in constant currency, Azure and other cloud services revenue grew 40% and 46% in constant currency, about a point lower than expected driven by a slight moderation in Azure consumption growth across customer segments. In our per user business, the enterprise mobility and security installed base grew 21% to over 230 million seats, with some impact from the small and medium business deal moderation noted earlier. In our on-premises server business, revenue decreased 2% and increased 1% in constant currency, ahead of expectations driven by a greater than expected number of contracts with higher in period revenue recognition. Enterprise services revenue grew 5% and 8% in constant currency, lower than expected driven by declines in Microsoft consulting services. Segment gross margin dollars increased 15% and 19% in constant currency and gross margin percentage decreased roughly 3 points year over year. Excluding the impact of the change in accounting estimate, gross margin percentage declined roughly 2 points driven by sales mixtip to Azure, partially offset by improvements in Azure margins. Operating expenses increased 20% and 22% in constant currency, including roughly 7 points of impact from nuance and operating income grew 11% and 18% in constant currency. Now, to more personal computing, revenue was 14.4 billion dollars, increasing 2% and 5% in constant currency. FX decreased segment revenue, 127 billion dollars more than expected. Excluding the additional FX headwind, segment results were below our guidance range, driven by the PC and ad trends mentioned earlier. Windows OEM revenue decreased 2% year over year. Despite the deteriorating PC market, we saw share gains again in this quarter and volumes remained above pre-pandemic levels. Windows commercial products and cloud services revenue grew 6% and 12% in constant currency, lower than expected due to some impact from the small medium business deal moderation noted earlier. Surface revenue grew 10% and 15% in constant currency, driven by commercial sales. Search and news advertising revenue XTAC increased 18% and 21% in constant currency, lower than expected, driven by the slowdown in advertising spend noted earlier, partially offset by the inclusion of three weeks of results from Xander. And in gaming, revenue declined 7% and 5% in constant currency in line with expectations. XBOX hardware revenue declined 11% and 8% in constant currency. XBOX content and services revenue declined 6% and 4% in constant currency, driven by lower engagement hours and monetization in third party and first party content, partially offset by growth in XBOX game pass subscriptions. Semicro's margin dollars were relatively unchanged and increased 4% in constant currency, and gross margin percentage decreased roughly 1.5 year over year, driven by increased usage of Windows commercial cloud services, operating expenses increased 8% and 10% in constant currency, and operating income decreased 5% and was relatively unchanged in constant currency. Now back to total company results. Capital expenditures including finance leases were 8.7 billion dollars in line with expectations. Cash paid for Ppne was 6.9 billion dollars. Our data center investments continue to be based on significant customer demand and usage signals. Cash flow from operations was 24.6 billion dollars, increasing 8%, driven by strong cloud buildings and collections. Free cash flow was 17.8 billion dollars up 9% year over year. This quarter, other income and expense was negative 47 million dollars, primarily driven by net losses on investments, including market to market losses on our equity portfolio. Equity market declines, drove net investment losses this quarter, compared to net investment gains last year, resulting in a negative 3.0 impact on EPS growth. Our effective tax rate was approximately 18%. And finally, we returned 12.4 billion dollars to shareholders up 19% year over year through sharey purchases and dividends, bringing our total cash return to shareholders to over 46 billion dollars for the full fiscal year. Now moving to our outlook. My commentary for both the full year and next quarter does not include any impact from Activision, which we still expect to close by the end of fiscal year. Let me start with some full year commentary for FY23. First, effective at the start of FY23, we are extending the depreciable useful life for server and network equipment assets in our cloud infrastructure from 4 to 6 years, which will apply to the asset balances on our balance sheet as of June 30, 2022, as well as future asset purchases. Investments in our software that increased efficiencies in how we operate our server and network equipment, as well as advances in technology, have resulted in lives extending beyond historical accounting useful lives. This change only impacts the timing of depreciation expense in the future for these assets. As a result, based on the outstanding balances as of June 30, we expect fiscal year 23 operating income to be favorably impacted by approximately 3.7 billion dollars for the full fiscal year and approximately 1.1 billion dollars in the first quarter. This has been included in the guidance we will provide on today's call. Additional details on the mechanics of the change are in our earnings materials. Second, on FX. Assuming current rates remain stable, we expect a roughly 4 point impact of full year revenue growth with headwinds and H1 greater than NH2. FX should also decrease COGs in operating expense growth by 2 points. Now, to our full year business outlook based on the current macro environment. At every level of the company, we manage performance on a constant currency basis as we have for many years. Therefore, with the FX volatility we have seen, I will comment on full year and constant currency and in US dollars. We continue to expect double digit revenue and operating income growth in both constant currency and US dollars. Revenue growth will be driven by continued momentum and our commercial business and a focus on share gains across our portfolio. Operating expense growth will be significant early in FY 23 and will moderate materially over the course of the year. As we slow the rate of hiring to focus on key growth areas, increase the productivity of prior year headcount investments and anniversary of the nuance and zander acquisitions. And even with this significant level of investment in our future, we expect operating margins based on constant currency to be approximately flat year over year in FY 23, excluding the benefit from the latest change in useful life. And in US dollars, we expect FY 23 full year margins to be roughly flat as the useful life benefit is mostly offset by the FX headwind mentioned earlier. And finally, we expect our FY 23 effective tax rate to be roughly 19 percent. Now to the outlook for the first quarter, which unless specifically noted otherwise is on a US dollar basis. First, FX. With the stronger US dollar and based on current rates, we expect FX to decrease total revenue growth by approximately five points and to decrease total COGs and operating expense growth by approximately three points. Within the segments, we anticipate roughly six points of negative effects impact on revenue growth and productivity and business processes and the intelligent cloud and three points in more personal computing. Overall, our outlook has the trends we saw in June continue through Q1 continued weakness in the PC market demand and advertising spend will impact Windows OEM, Surface, LinkedIn, and Search and News advertising revenue. Our differentiated market position, customer demand across our solution portfolio, and consistent execution across the Microsoft cloud should drive another strong quarter of revenue and share growth, although we expect to continue to see growth moderation in our small and medium-sized business segment. In commercial bookings, strong execution across our core nudie sales motions, an increased commitment to our platform should drive healthy growth on a flat X-Bree base. As a reminder, the growing mix of larger long-term measure contracts, which are more unpredictable in their timing, always drive increased quarterly volatility in our booking scroll three. Microsoft cloud, gross margin percentage, should be up roughly 2.0 over year driven by the latest accounting estimate change note earlier, excluding the impact of the change in accounting estimate, Q1 gross margin percentage will decrease roughly one point driven by revenue mixed shift to Azure and the impact from the nuance acquisition partially offset by continued margin improvement in Azure. In capital expenditures, we expect a sequential decrease on a dollar basis with normal quarterly spend variability in the timing of our cloud infrastructure build out. Next is segment guidance. In productivity and business process, as we expect revenue to grow between 12 and 14% in constant currency, or 15.95 to 16.25 billion US dollars. In office commercial, revenue growth will again be driven by Office 365 with seat growth across customer segments, an ARP growth through E5. We expect Office 365 revenue growth to be sequentially lower by roughly two points on a constant currency basis with a bit more effects impact on US dollar growth than at the segment level. In our on-premises business, on a prior year comparable, which benefited from contracts with higher in-period revenue recognition, we expect revenue to decline in the mid to high 30s. In office consumer, we expect revenue to grow in the low to mid single digits driven by Microsoft 365 subscriptions. For linked in, we expect continued strong engagement on the platform, although results will be impacted by this low down and advertising spend and hiring resulting in low to mid-teens rep growth. And in dynamics, we expect revenue growth in the mid to high teens driven by share growth in dynamics 365. For intelligent cloud, we expect revenue to grow between 25 and 27 percent in constant currency or 20.3 to 20.6 billion US dollars. Revenue will continue to be driven by Azure, which, as a reminder, can have poorly variability primarily from our per user business and from in-period revenue recognition, depending on the mix of contracts. We expect Azure revenue growth to be sequentially lower by roughly three points on a constant currency basis. Azure revenue will continue to be driven by strong growth and consumption. And our per user business should continue to benefit from Microsoft 365 sweet momentum, although we expect moderation and growth rates given the size of the installed base. In our on-premises server business, we expect revenue to decline low single digits driven by strong demand for our hybrid offerings, offset by the prior year comparable, which included benefit from contracts with higher in period revenue recognition. And in enterprise services, we expect revenue growth to be in the low single digits driven by enterprise support, partially offset by declines in Microsoft consulting services. In more personal computing, we expect revenue to grow between one and four percent in constant currency or 13 to 13.4 billion US dollars. In Windows OEM, we expect revenue to decline in the high single digits. Excluding the impact from the Windows 11 revenue deferral last year, revenue would decline mid teens reflecting continued weakness in the PC market. And Windows commercial products and cloud services, customer demand for Microsoft 365, and our advanced security solutions should drive growth in the high single digits. In Surface, revenue should decline in the low single digits. Search and news advertising XTAC should grow in the mid to high teens. Roughly 10 points faster than the overall search and news advertising revenue driven by growing first party revenue and the inclusion of Xander. And in gaming, we expect revenue to decline in the low to mid single digits driven by declines in first party content, partially offset by growth in game pass subscribers and consoles. We expect Xbox content and services revenue to decline in the low to mid single digits. Now back to company guidance. We expect COGS to grow between 12 and 14 percent in constant currency or to be between 14.9 and 15.1 billion US dollars and operating expense to grow between 19 and 20 percent in constant currency or to be between 13.3 and 13.4 billion US dollars. Total company head count is expected to continue to grow with 11,000 hires expected to start in Q1 primarily in cloud engineering, LinkedIn, customer deployment, and commercial sales. And other income and expense interest income and expense should offset each other. As a reminder, we are required to recognize Mark to market games or losses on our equity portfolio, which can increase quarterly volatility. And we expect our Q1 effective tax rate to be approximately 19 percent. Finally, as a reminder, a Q1 cash flow, we will be making $3.2 billion of tax payments related to the TCJA transition tax and the transfer of the tangible property, completing Q1 of FY22. In closing, we continue to see strong demand for our products and services and increased commitment to our platform. As we remain focused on delivering compelling customer value in this dynamic environment, resulting in continued share gains. As we manage through this period, we will continue to invest in future growth while maintaining intense focus on operational excellence and execution discipline. With that, let's go to Q&A Brett.\""
            ],
            "application/vnd.google.colaboratory.intrinsic+json": {
              "type": "string"
            }
          },
          "metadata": {},
          "execution_count": 14
        }
      ]
    }
  ]
}